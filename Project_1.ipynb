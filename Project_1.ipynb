{
 "cells": [
  {
   "cell_type": "code",
   "execution_count": 1,
   "id": "417d87d0-9f80-42b0-9cfd-420a83a2dd71",
   "metadata": {},
   "outputs": [],
   "source": [
    "import numpy as np\n",
    "import cvxpy as cp\n",
    "import matplotlib.pyplot as plt"
   ]
  },
  {
   "cell_type": "code",
   "execution_count": 2,
   "id": "eae8baca-a16b-4fc5-93da-fe2e2572316e",
   "metadata": {},
   "outputs": [],
   "source": [
    "beta = np.array([-0.30, 0.30, 0.70, 1.00, 1.50, 2.50])\n",
    "sigma_tilde = np.array([0.15, 0.16, 0.10, 0.11, 0.12, 0.14])\n",
    "sigma_m, mu_m, r_f = 0.20, 0.08, 0.02"
   ]
  },
  {
   "cell_type": "code",
   "execution_count": 3,
   "id": "baf0c511-31bd-4eb0-a9f3-89424a14f90d",
   "metadata": {},
   "outputs": [
    {
     "data": {
      "text/plain": [
       "array([0.002, 0.038, 0.062, 0.08 , 0.11 , 0.17 ])"
      ]
     },
     "execution_count": 3,
     "metadata": {},
     "output_type": "execute_result"
    }
   ],
   "source": [
    "mu = r_f + beta * (mu_m - r_f)\n",
    "mu"
   ]
  },
  {
   "cell_type": "code",
   "execution_count": 4,
   "id": "865e6063-6638-4325-b2e4-da270fe28830",
   "metadata": {},
   "outputs": [
    {
     "data": {
      "text/plain": [
       "array([[ 0.0261, -0.0036, -0.0084, -0.012 , -0.018 , -0.03  ],\n",
       "       [-0.0036,  0.0292,  0.0084,  0.012 ,  0.018 ,  0.03  ],\n",
       "       [-0.0084,  0.0084,  0.0296,  0.028 ,  0.042 ,  0.07  ],\n",
       "       [-0.012 ,  0.012 ,  0.028 ,  0.0521,  0.06  ,  0.1   ],\n",
       "       [-0.018 ,  0.018 ,  0.042 ,  0.06  ,  0.1044,  0.15  ],\n",
       "       [-0.03  ,  0.03  ,  0.07  ,  0.1   ,  0.15  ,  0.2696]])"
      ]
     },
     "execution_count": 4,
     "metadata": {},
     "output_type": "execute_result"
    }
   ],
   "source": [
    "var_m = sigma_m ** 2\n",
    "sigma_epsilon_squared = sigma_tilde ** 2\n",
    "cov_matrix = np.outer(beta, beta) * var_m\n",
    "np.fill_diagonal(cov_matrix, np.diag(cov_matrix) + sigma_epsilon_squared)\n",
    "cov_matrix"
   ]
  },
  {
   "cell_type": "code",
   "execution_count": 5,
   "id": "b2ba7ce2-deb7-4f92-bf6d-d071ef36e46f",
   "metadata": {},
   "outputs": [
    {
     "data": {
      "text/plain": [
       "array([0.16155494, 0.17088007, 0.17204651, 0.22825424, 0.32310989,\n",
       "       0.5192302 ])"
      ]
     },
     "execution_count": 5,
     "metadata": {},
     "output_type": "execute_result"
    }
   ],
   "source": [
    "sigma = np.sqrt(np.diag(cov_matrix))\n",
    "sigma"
   ]
  },
  {
   "cell_type": "code",
   "execution_count": 6,
   "id": "eb3620d3-ff04-474e-811a-73309a472add",
   "metadata": {},
   "outputs": [
    {
     "data": {
      "text/plain": [
       "array([[ 1.        , -0.13040397, -0.30221302, -0.32541842, -0.34482759,\n",
       "        -0.35763586],\n",
       "       [-0.13040397,  1.        ,  0.2857209 ,  0.30765995,  0.32600993,\n",
       "         0.33811924],\n",
       "       [-0.30221302,  0.2857209 ,  1.        ,  0.71300621,  0.75553256,\n",
       "         0.78359605],\n",
       "       [-0.32541842,  0.30765995,  0.71300621,  1.        ,  0.81354605,\n",
       "         0.84376439],\n",
       "       [-0.34482759,  0.32600993,  0.75553256,  0.81354605,  1.        ,\n",
       "         0.89408965],\n",
       "       [-0.35763586,  0.33811924,  0.78359605,  0.84376439,  0.89408965,\n",
       "         1.        ]])"
      ]
     },
     "execution_count": 6,
     "metadata": {},
     "output_type": "execute_result"
    }
   ],
   "source": [
    "correlation_matrix = cov_matrix / np.outer(sigma, sigma)\n",
    "correlation_matrix"
   ]
  },
  {
   "cell_type": "code",
   "execution_count": 7,
   "id": "f5c7a149-a2b2-4527-b8d6-6c9fa3dace8b",
   "metadata": {},
   "outputs": [
    {
     "data": {
      "text/plain": [
       "array([-0.1114172 ,  0.10533703,  0.24412004,  0.26286477,  0.27854301,\n",
       "        0.28888921])"
      ]
     },
     "execution_count": 7,
     "metadata": {},
     "output_type": "execute_result"
    }
   ],
   "source": [
    "sharpe_ratio = (mu - r_f) / sigma\n",
    "sharpe_ratio"
   ]
  },
  {
   "cell_type": "code",
   "execution_count": 8,
   "id": "e7f3d30d-ee1b-485b-b55c-6add794cd3cf",
   "metadata": {},
   "outputs": [
    {
     "name": "stdout",
     "output_type": "stream",
     "text": [
      "Portfolio: [ 0.33295234  0.20351853  0.36891722  0.21061947  0.0449561  -0.16096366]\n",
      "Gamma: 0\n",
      "Expected Return: 0.0257\n",
      "Volatility: 0.0797\n",
      "Sharpe Ratio: 0.0716\n",
      "\n",
      "\n",
      "Portfolio: [ 0.2999226   0.1879909   0.35221061  0.2110959   0.06536001 -0.11658001]\n",
      "Gamma: 0.1\n",
      "Expected Return: 0.0338\n",
      "Volatility: 0.0846\n",
      "Sharpe Ratio: 0.1635\n",
      "\n",
      "\n",
      "Portfolio: [ 0.26689285  0.17246327  0.33550399  0.21157233  0.08576393 -0.07219636]\n",
      "Gamma: 0.2\n",
      "Expected Return: 0.0420\n",
      "Volatility: 0.0980\n",
      "Sharpe Ratio: 0.2242\n",
      "\n",
      "\n",
      "Portfolio: [0.16780362 0.12588037 0.28538415 0.21300162 0.14697567 0.06095458]\n",
      "Gamma: 0.5\n",
      "Expected Return: 0.0664\n",
      "Volatility: 0.1634\n",
      "Sharpe Ratio: 0.2839\n",
      "\n",
      "\n",
      "Portfolio: [0.00265489 0.04824221 0.20185108 0.21538376 0.24899524 0.28287281]\n",
      "Gamma: 1\n",
      "Expected Return: 0.1071\n",
      "Volatility: 0.2962\n",
      "Sharpe Ratio: 0.2940\n",
      "\n",
      "\n"
     ]
    }
   ],
   "source": [
    "n = 6\n",
    "x = cp.Variable(n)\n",
    "constraints = [cp.sum(x) == 1, x >= -10, x <= 10]\n",
    "\n",
    "gamma_values = [0, 0.10, 0.20, 0.5, 1]\n",
    "results = []\n",
    "for gamma in gamma_values:\n",
    "    objective = cp.Minimize(0.5 * cp.quad_form(x, cov_matrix) - gamma * (mu - r_f) @ x)\n",
    "    \n",
    "    prob = cp.Problem(objective, constraints)\n",
    "    prob.solve()\n",
    "    \n",
    "    x_opt = x.value\n",
    "    \n",
    "    mu_x = np.dot(mu, x_opt)\n",
    "    sigma_x = np.sqrt(x_opt @ cov_matrix @ x_opt)\n",
    "    sharpe_x = (mu_x - r_f) / sigma_x\n",
    "\n",
    "    print(f\"Portfolio: {x_opt}\")\n",
    "    print(f\"Gamma: {gamma}\")\n",
    "    print(f\"Expected Return: {mu_x:.4f}\")\n",
    "    print(f\"Volatility: {sigma_x:.4f}\")\n",
    "    print(f\"Sharpe Ratio: {sharpe_x:.4f}\")\n",
    "    print('\\n')"
   ]
  },
  {
   "cell_type": "code",
   "execution_count": 9,
   "id": "54ca4d50-3da1-4f51-b357-5cd5df2bdda3",
   "metadata": {},
   "outputs": [],
   "source": [
    "n = 6\n",
    "x = cp.Variable(n)\n",
    "constraints = [cp.sum(x) == 1, x >= -10, x <= 10]\n",
    "\n",
    "gamma_values = np.arange(-0.5, 10.1, 0.01)\n",
    "long_short_portfolios = []\n",
    "for gamma in gamma_values:\n",
    "    objective = cp.Minimize(0.5 * cp.quad_form(x, cov_matrix) - gamma * (mu - r_f) @ x)\n",
    "    \n",
    "    prob = cp.Problem(objective, constraints)\n",
    "    prob.solve()\n",
    "    \n",
    "    x_opt = x.value\n",
    "\n",
    "    mu_x = np.dot(mu, x_opt)\n",
    "    sigma_x = np.sqrt(x_opt @ cov_matrix @ x_opt)\n",
    "\n",
    "    long_short_portfolios.append([mu_x, sigma_x])"
   ]
  },
  {
   "cell_type": "code",
   "execution_count": 10,
   "id": "0562d0d3-4b12-4f93-aa38-fb42192a6248",
   "metadata": {},
   "outputs": [
    {
     "data": {
      "image/png": "[encoded data removed]",
      "text/plain": [
       "<Figure size 1400x500 with 1 Axes>"
      ]
     },
     "metadata": {},
     "output_type": "display_data"
    }
   ],
   "source": [
    "long_short_portfolios = np.array(long_short_portfolios)\n",
    "\n",
    "expected_returns_long_short = long_short_portfolios[:, 0]\n",
    "volatilities_long_short = long_short_portfolios[:, 1]\n",
    "\n",
    "plt.figure(figsize=(14, 5))\n",
    "plt.plot(volatilities_long_short, expected_returns_long_short, marker='o', linestyle='-', label=\"Long Short Efficient Frontier\")\n",
    "plt.xlabel(\"Volatility (σ)\")\n",
    "plt.ylabel(\"Expected Return (μ)\")\n",
    "plt.title(\"Efficient Frontier\")\n",
    "plt.legend()\n",
    "plt.grid(True)\n",
    "plt.show()"
   ]
  },
  {
   "cell_type": "code",
   "execution_count": 11,
   "id": "63bef427-8d19-4d55-ac0f-5e457268bb2e",
   "metadata": {},
   "outputs": [],
   "source": [
    "def long_short_solver(gamma, cov_matrix, mu, r_f):\n",
    "    n = 6\n",
    "    x = cp.Variable(n)\n",
    "    constraints = [cp.sum(x) == 1, x >= -10, x <= 10]\n",
    "    \n",
    "    objective = cp.Minimize(0.5 * cp.quad_form(x, cov_matrix) - gamma * (mu - r_f) @ x)\n",
    "    \n",
    "    prob = cp.Problem(objective, constraints)\n",
    "    prob.solve()\n",
    "    \n",
    "    x_opt = x.value\n",
    "    \n",
    "    mu_x = np.dot(mu, x_opt)\n",
    "    sigma_x = np.sqrt(x_opt @ cov_matrix @ x_opt)\n",
    "    sharpe_x = (mu_x - r_f) / sigma_x\n",
    "\n",
    "    return x_opt, mu_x, sigma_x, sharpe_x"
   ]
  },
  {
   "cell_type": "code",
   "execution_count": 12,
   "id": "3014ffc1-a31f-48b6-9db9-f08ccfc7a52f",
   "metadata": {},
   "outputs": [
    {
     "name": "stdout",
     "output_type": "stream",
     "text": [
      "Portfolio: [ 0.26299945  0.17063294  0.33353469  0.21162849  0.08816905 -0.06696462]\n",
      "Gamma: 0.21178754605352879\n",
      "Expected Return: 0.0429\n",
      "Volatility: 0.1000\n",
      "Sharpe Ratio: 0.2293\n"
     ]
    }
   ],
   "source": [
    "gamma0, gamma1 = -0.5, 10\n",
    "volatility_target = 0.1\n",
    "\n",
    "while (gamma1 - gamma0) > 1e-7:\n",
    "    midpoint = (gamma0 + gamma1) / 2\n",
    "    _, _, vol, _ = long_short_solver(midpoint, cov_matrix, mu, r_f)\n",
    "\n",
    "    if vol > volatility_target:\n",
    "        gamma1 = midpoint\n",
    "    else:\n",
    "        gamma0 = midpoint\n",
    "\n",
    "gamma = (gamma0 + gamma1) / 2\n",
    "portfolio, mu_target, sigma_target, sharpe_target = long_short_solver(gamma, cov_matrix, mu, r_f)\n",
    "\n",
    "print(f\"Portfolio: {portfolio}\")\n",
    "print(f\"Gamma: {gamma}\")\n",
    "print(f\"Expected Return: {mu_target:.4f}\")\n",
    "print(f\"Volatility: {sigma_target:.4f}\")\n",
    "print(f\"Sharpe Ratio: {sharpe_target:.4f}\")"
   ]
  },
  {
   "cell_type": "code",
   "execution_count": 13,
   "id": "dcbbd849-5c62-4f26-a1d6-b262b9cc8d8c",
   "metadata": {},
   "outputs": [
    {
     "name": "stdout",
     "output_type": "stream",
     "text": [
      "Portfolio: [0.18579564 0.13433861 0.29448461 0.21274209 0.13586121 0.03677784]\n",
      "Gamma: 0.44552782364189625\n",
      "Expected Return: 0.0620\n",
      "Volatility: 0.1500\n",
      "Sharpe Ratio: 0.2797\n"
     ]
    }
   ],
   "source": [
    "gamma0, gamma1 = -0.5, 10\n",
    "volatility_target = 0.15\n",
    "\n",
    "while (gamma1 - gamma0) > 1e-7:\n",
    "    midpoint = (gamma0 + gamma1) / 2\n",
    "    _, _, vol, _ = long_short_solver(midpoint, cov_matrix, mu, r_f)\n",
    "\n",
    "    if vol > volatility_target:\n",
    "        gamma1 = midpoint\n",
    "    else:\n",
    "        gamma0 = midpoint\n",
    "\n",
    "gamma = (gamma0 + gamma1) / 2\n",
    "portfolio, mu_target, sigma_target, sharpe_target = long_short_solver(gamma, cov_matrix, mu, r_f)\n",
    "\n",
    "print(f\"Portfolio: {portfolio}\")\n",
    "print(f\"Gamma: {gamma}\")\n",
    "print(f\"Expected Return: {mu_target:.4f}\")\n",
    "print(f\"Volatility: {sigma_target:.4f}\")\n",
    "print(f\"Sharpe Ratio: {sharpe_target:.4f}\")"
   ]
  },
  {
   "cell_type": "code",
   "execution_count": 14,
   "id": "3bc96600-e3e9-4bb6-be31-be166b328805",
   "metadata": {},
   "outputs": [
    {
     "name": "stdout",
     "output_type": "stream",
     "text": [
      "Portfolio: [-0.03483583  0.03061743  0.18288809  0.21592454  0.27215489  0.33325089]\n",
      "Gamma: 1.1135059308214783\n",
      "Expected Return: 0.1163\n",
      "Volatility: 0.3275\n",
      "Sharpe Ratio: 0.2941\n"
     ]
    }
   ],
   "source": [
    "tangency_portfolio = np.linalg.inv(cov_matrix) @ (mu - r_f) / (np.ones(6) @ np.linalg.inv(cov_matrix) @ (mu - r_f))\n",
    "gamma = 1 / (np.ones(6) @ np.linalg.inv(cov_matrix) @ (mu - r_f))\n",
    "mu_tangency = np.dot(mu, tangency_portfolio)\n",
    "sigma_tangency = np.sqrt(tangency_portfolio @ cov_matrix @ tangency_portfolio)\n",
    "sharpe_tangency = (mu_tangency - r_f) / sigma_tangency\n",
    "\n",
    "print(f\"Portfolio: {tangency_portfolio}\")\n",
    "print(f\"Gamma: {gamma}\")\n",
    "print(f\"Expected Return: {mu_tangency:.4f}\")\n",
    "print(f\"Volatility: {sigma_tangency:.4f}\")\n",
    "print(f\"Sharpe Ratio: {sharpe_tangency:.4f}\")"
   ]
  },
  {
   "cell_type": "code",
   "execution_count": 15,
   "id": "2f6165f5-eaf6-4e17-acda-a0ebf102de87",
   "metadata": {},
   "outputs": [],
   "source": [
    "gamma_values = np.arange(-0.5, 10, 0.01)\n",
    "sharpe0 = -1e7\n",
    "\n",
    "for gamma in gamma_values:\n",
    "    _, _, _, sharpe_temp = long_short_solver(gamma, cov_matrix, mu, r_f)\n",
    "\n",
    "    if sharpe_temp > sharpe0:\n",
    "        sharpe0 = sharpe_temp\n",
    "        gamma0 = gamma"
   ]
  },
  {
   "cell_type": "code",
   "execution_count": 16,
   "id": "4b1b98cc-b375-4d94-bad4-cf9596fc2352",
   "metadata": {},
   "outputs": [
    {
     "name": "stdout",
     "output_type": "stream",
     "text": [
      "Portfolio: [-0.03483387  0.03061835  0.18288908  0.21592451  0.27215368  0.33324825]\n",
      "Gamma: 1.1135\n",
      "Expected Return: 0.1163\n",
      "Volatility: 0.3275\n",
      "Sharpe Ratio: 0.2941\n"
     ]
    }
   ],
   "source": [
    "gamma_values = np.arange(gamma0 - 0.01, gamma0 + 0.01, 0.0001)\n",
    "for gamma in gamma_values:\n",
    "    tangency_temp, mu_temp, sigma_temp, sharpe_temp = long_short_solver(gamma, cov_matrix, mu, r_f)\n",
    "\n",
    "    if sharpe_temp > sharpe0:\n",
    "        tangency_brute, mu_brute, sigma_brute, sharpe_brute = tangency_temp, mu_temp, sigma_temp, sharpe_temp\n",
    "        gamma0 = gamma\n",
    "        sharpe0 = sharpe_brute\n",
    "\n",
    "print(f\"Portfolio: {tangency_brute}\")\n",
    "print(f\"Gamma: {gamma0}\")\n",
    "print(f\"Expected Return: {mu_brute:.4f}\")\n",
    "print(f\"Volatility: {sigma_brute:.4f}\")\n",
    "print(f\"Sharpe Ratio: {sharpe_brute:.4f}\")"
   ]
  },
  {
   "cell_type": "code",
   "execution_count": 17,
   "id": "f0ed7590-2cb3-41f1-a986-e81d513c89ed",
   "metadata": {},
   "outputs": [],
   "source": [
    "mu_f = np.append(mu, r_f)\n",
    "\n",
    "zero_n = np.zeros((n, 1))\n",
    "cov_matrix_f = np.block([\n",
    "    [cov_matrix, zero_n],\n",
    "    [zero_n.T, np.array([[0]])]\n",
    "])"
   ]
  },
  {
   "cell_type": "code",
   "execution_count": 18,
   "id": "b918be19-8df9-4e8a-ac94-fb83dfcb7abe",
   "metadata": {},
   "outputs": [],
   "source": [
    "n = 7\n",
    "x = cp.Variable(n)\n",
    "constraints = [cp.sum(x) == 1, x >= -10, x <= 10]\n",
    "\n",
    "gamma_values = np.arange(0.5, 1.5, 0.01)\n",
    "extended_portfolios = []\n",
    "sharpe_ratio_values = []\n",
    "tangency_brute = None\n",
    "for gamma in gamma_values:\n",
    "    objective = cp.Minimize(0.5 * cp.quad_form(x, cov_matrix_f) - gamma * mu_f @ x)\n",
    "    \n",
    "    prob = cp.Problem(objective, constraints)\n",
    "    prob.solve()\n",
    "    \n",
    "    x_opt = x.value\n",
    "\n",
    "    if x_opt[6] < 0 and tangency_brute is None:\n",
    "        tangency_brute = x_opt\n",
    "        gamma0 = gamma\n",
    "\n",
    "    mu_x = np.dot(mu_f, x_opt)\n",
    "    sigma_x = np.sqrt(x_opt @ cov_matrix_f @ x_opt)\n",
    "    sharpe_x = (mu_x - r_f) / sigma_x\n",
    "\n",
    "    extended_portfolios.append([mu_x, sigma_x])\n",
    "    sharpe_ratio_values.append(sharpe_x)"
   ]
  },
  {
   "cell_type": "code",
   "execution_count": 19,
   "id": "610ce608-fac8-4c1b-b448-10017e3412b8",
   "metadata": {},
   "outputs": [],
   "source": [
    "gamma_values = np.arange(gamma0 - 0.01, gamma0 + 0.01, 0.0001)\n",
    "tangency_brute = None\n",
    "for gamma in gamma_values:\n",
    "    objective = cp.Minimize(0.5 * cp.quad_form(x, cov_matrix_f) - gamma * mu_f @ x)\n",
    "    \n",
    "    prob = cp.Problem(objective, constraints)\n",
    "    prob.solve()\n",
    "    \n",
    "    x_opt = x.value\n",
    "\n",
    "    if x_opt[6] < 0 and tangency_brute is None:\n",
    "        tangency_brute = x_opt\n",
    "        gamma0 = gamma\n",
    "        break"
   ]
  },
  {
   "cell_type": "code",
   "execution_count": 20,
   "id": "9c79be24-3f9f-4d52-9014-b9d6cb952a1d",
   "metadata": {},
   "outputs": [
    {
     "data": {
      "text/plain": [
       "[0.2940755998596355,\n",
       " 0.29407559985963555,\n",
       " 0.2940755998596355,\n",
       " 0.2940755998596355,\n",
       " 0.29407559985963555,\n",
       " 0.2940755998596355,\n",
       " 0.2940755998596355,\n",
       " 0.2940755998596355,\n",
       " 0.2940755998596355,\n",
       " 0.29407559985963555]"
      ]
     },
     "execution_count": 20,
     "metadata": {},
     "output_type": "execute_result"
    }
   ],
   "source": [
    "sharpe_ratio_values[:10]"
   ]
  },
  {
   "cell_type": "code",
   "execution_count": 21,
   "id": "5d276d7d-c2d3-40a7-848e-50ba16420a73",
   "metadata": {},
   "outputs": [
    {
     "name": "stdout",
     "output_type": "stream",
     "text": [
      "Portfolio: [-3.48387688e-02  3.06200116e-02  1.82903536e-01  2.15942782e-01\n",
      "  2.72177881e-01  3.33279038e-01 -8.44801774e-05]\n",
      "Gamma: 1.1136000000000001\n",
      "Expected Return: 0.1163\n",
      "Volatility: 0.3275\n",
      "Sharpe Ratio: 0.2941\n"
     ]
    }
   ],
   "source": [
    "mu_brute = np.dot(mu_f, tangency_brute)\n",
    "sigma_brute = np.sqrt(tangency_brute @ cov_matrix_f @ tangency_brute)\n",
    "sharpe_brute = (mu_brute - r_f) / sigma_brute\n",
    "\n",
    "print(f\"Portfolio: {tangency_brute}\")\n",
    "print(f\"Gamma: {gamma0}\")\n",
    "print(f\"Expected Return: {mu_brute:.4f}\")\n",
    "print(f\"Volatility: {sigma_brute:.4f}\")\n",
    "print(f\"Sharpe Ratio: {sharpe_brute:.4f}\")"
   ]
  },
  {
   "cell_type": "code",
   "execution_count": 22,
   "id": "9f617035-012e-40fc-ba9a-6a10dd1ae02d",
   "metadata": {},
   "outputs": [
    {
     "data": {
      "image/png": "[encoded data removed]",
      "text/plain": [
       "<Figure size 1400x500 with 1 Axes>"
      ]
     },
     "metadata": {},
     "output_type": "display_data"
    }
   ],
   "source": [
    "extended_portfolios = np.array(extended_portfolios)\n",
    "\n",
    "expected_returns = extended_portfolios[:, 0]\n",
    "volatilities = extended_portfolios[:, 1]\n",
    "\n",
    "plt.figure(figsize=(14, 5))\n",
    "plt.plot(volatilities, expected_returns, marker='o', linestyle='-', label=\"Extended Efficient Frontier\")\n",
    "plt.xlabel(\"Volatility (σ)\")\n",
    "plt.ylabel(\"Expected Return (μ)\")\n",
    "plt.title(\"Efficient Frontier\")\n",
    "plt.legend()\n",
    "plt.grid(True)\n",
    "plt.show()"
   ]
  },
  {
   "cell_type": "code",
   "execution_count": 23,
   "id": "10f8abb9-1bda-46db-a804-b82f581c23d3",
   "metadata": {},
   "outputs": [
    {
     "name": "stdout",
     "output_type": "stream",
     "text": [
      "Portfolio: [4.45838379e-01 2.22332734e-01 2.79862095e-01 5.19667916e-02\n",
      " 1.92375296e-23 1.25202738e-22]\n",
      "Gamma: 0\n",
      "Expected Return: 0.0308\n",
      "Volatility: 0.0887\n",
      "Sharpe Ratio: 0.1224\n",
      "\n",
      "\n",
      "Portfolio: [3.72128402e-01 2.02358192e-01 3.05202348e-01 1.20311059e-01\n",
      " 1.79945498e-23 2.63763333e-23]\n",
      "Gamma: 0.1\n",
      "Expected Return: 0.0370\n",
      "Volatility: 0.0921\n",
      "Sharpe Ratio: 0.1845\n",
      "\n",
      "\n",
      "Portfolio: [3.04177970e-01 1.81936997e-01 3.19997564e-01 1.74112978e-01\n",
      " 1.97744916e-02 1.20238736e-24]\n",
      "Gamma: 0.2\n",
      "Expected Return: 0.0435\n",
      "Volatility: 0.1022\n",
      "Sharpe Ratio: 0.2296\n",
      "\n",
      "\n",
      "Portfolio: [0.16780362 0.12588037 0.28538415 0.21300162 0.14697567 0.06095458]\n",
      "Gamma: 0.5\n",
      "Expected Return: 0.0664\n",
      "Volatility: 0.1634\n",
      "Sharpe Ratio: 0.2839\n",
      "\n",
      "\n",
      "Portfolio: [0.00265489 0.04824221 0.20185108 0.21538376 0.24899524 0.28287281]\n",
      "Gamma: 1\n",
      "Expected Return: 0.1071\n",
      "Volatility: 0.2962\n",
      "Sharpe Ratio: 0.2940\n",
      "\n",
      "\n"
     ]
    }
   ],
   "source": [
    "n = 6\n",
    "x = cp.Variable(n)\n",
    "constraints = [cp.sum(x) == 1, x >= 0, x <= 1]\n",
    "\n",
    "gamma_values = [0, 0.10, 0.20, 0.5, 1]\n",
    "results = []\n",
    "for gamma in gamma_values:\n",
    "    objective = cp.Minimize(0.5 * cp.quad_form(x, cov_matrix) - gamma * (mu - r_f) @ x)\n",
    "    \n",
    "    prob = cp.Problem(objective, constraints)\n",
    "    prob.solve()\n",
    "    \n",
    "    x_opt = x.value\n",
    "    \n",
    "    mu_x = np.dot(mu, x_opt)\n",
    "    sigma_x = np.sqrt(x_opt @ cov_matrix @ x_opt)\n",
    "    sharpe_x = (mu_x - r_f) / sigma_x\n",
    "\n",
    "    print(f\"Portfolio: {x_opt}\")\n",
    "    print(f\"Gamma: {gamma}\")\n",
    "    print(f\"Expected Return: {mu_x:.4f}\")\n",
    "    print(f\"Volatility: {sigma_x:.4f}\")\n",
    "    print(f\"Sharpe Ratio: {sharpe_x:.4f}\")\n",
    "    print('\\n')"
   ]
  },
  {
   "cell_type": "code",
   "execution_count": 24,
   "id": "7dcf2f7c-0076-4b8d-ada2-50713dad93b9",
   "metadata": {},
   "outputs": [],
   "source": [
    "n = 6\n",
    "x = cp.Variable(n)\n",
    "constraints = [cp.sum(x) == 1, x >= 0, x <= 1]\n",
    "\n",
    "gamma_values = np.arange(-0.5, 10.1, 0.01)\n",
    "long_only_portfolios = []\n",
    "for gamma in gamma_values:\n",
    "    objective = cp.Minimize(0.5 * cp.quad_form(x, cov_matrix) - gamma * (mu - r_f) @ x)\n",
    "    \n",
    "    prob = cp.Problem(objective, constraints)\n",
    "    prob.solve()\n",
    "    \n",
    "    x_opt = x.value\n",
    "\n",
    "    mu_x = np.dot(mu, x_opt)\n",
    "    sigma_x = np.sqrt(x_opt @ cov_matrix @ x_opt)\n",
    "\n",
    "    long_only_portfolios.append([mu_x, sigma_x])"
   ]
  },
  {
   "cell_type": "code",
   "execution_count": 25,
   "id": "110fcc97-f72e-4a7d-9918-75e45a16e6ff",
   "metadata": {},
   "outputs": [
    {
     "data": {
      "image/png": "[encoded data removed]",
      "text/plain": [
       "<Figure size 1400x500 with 1 Axes>"
      ]
     },
     "metadata": {},
     "output_type": "display_data"
    }
   ],
   "source": [
    "long_only_portfolios = np.array(long_only_portfolios)\n",
    "\n",
    "expected_returns_long_only = long_only_portfolios[:, 0]\n",
    "volatilities_long_only = long_only_portfolios[:, 1]\n",
    "\n",
    "plt.figure(figsize=(14, 5))\n",
    "plt.plot(volatilities_long_short, expected_returns_long_short, linestyle='-', label=\"Long Short Efficient Frontier\")\n",
    "plt.plot(volatilities_long_only, expected_returns_long_only, linestyle='-', label=\"Long Only Efficient Frontier\")\n",
    "plt.xlim(0.05, 0.3)\n",
    "plt.ylim(0, 0.12)\n",
    "plt.xlabel(\"Volatility (σ)\")\n",
    "plt.ylabel(\"Expected Return (μ)\")\n",
    "plt.title(\"Efficient Frontier\")\n",
    "plt.legend()\n",
    "plt.grid(True)\n",
    "plt.show()"
   ]
  },
  {
   "cell_type": "code",
   "execution_count": 26,
   "id": "0ddd023c-838b-4d6a-bf1b-d2556c90700f",
   "metadata": {},
   "outputs": [],
   "source": [
    "def solver_long_only(gamma, cov_matrix, mu, r_f):\n",
    "    n = 6\n",
    "    x = cp.Variable(n)\n",
    "    constraints = [cp.sum(x) == 1, x >= 0, x <= 1]\n",
    "    \n",
    "    objective = cp.Minimize(0.5 * cp.quad_form(x, cov_matrix) - gamma * (mu - r_f) @ x)\n",
    "    \n",
    "    prob = cp.Problem(objective, constraints)\n",
    "    prob.solve()\n",
    "    \n",
    "    x_opt = x.value\n",
    "    \n",
    "    mu_x = np.dot(mu, x_opt)\n",
    "    sigma_x = np.sqrt(x_opt @ cov_matrix @ x_opt)\n",
    "    sharpe_x = (mu_x - r_f) / sigma_x\n",
    "\n",
    "    return x_opt, mu_x, sigma_x, sharpe_x"
   ]
  },
  {
   "cell_type": "code",
   "execution_count": 27,
   "id": "814689fc-fc8d-4de0-9fca-65488d558b1f",
   "metadata": {},
   "outputs": [
    {
     "name": "stdout",
     "output_type": "stream",
     "text": [
      "Portfolio: [ 3.13139704e-01  1.85356911e-01  3.21146600e-01  1.70348165e-01\n",
      "  1.00086202e-02 -3.50211814e-23]\n",
      "Gamma: 0.18398296274244785\n",
      "Expected Return: 0.0423\n",
      "Volatility: 0.1000\n",
      "Sharpe Ratio: 0.2231\n"
     ]
    }
   ],
   "source": [
    "gamma0, gamma1 = -0.5, 10\n",
    "volatility_target = 0.1\n",
    "\n",
    "while (gamma1 - gamma0) > 1e-7:\n",
    "    midpoint = (gamma0 + gamma1) / 2\n",
    "    _, _, vol, _ = solver_long_only(midpoint, cov_matrix, mu, r_f)\n",
    "\n",
    "    if vol > volatility_target:\n",
    "        gamma1 = midpoint\n",
    "    else:\n",
    "        gamma0 = midpoint\n",
    "\n",
    "gamma = (gamma0 + gamma1) / 2\n",
    "portfolio, mu_target, sigma_target, sharpe_target = solver_long_only(gamma, cov_matrix, mu, r_f)\n",
    "\n",
    "print(f\"Portfolio: {portfolio}\")\n",
    "print(f\"Gamma: {gamma}\")\n",
    "print(f\"Expected Return: {mu_target:.4f}\")\n",
    "print(f\"Volatility: {sigma_target:.4f}\")\n",
    "print(f\"Sharpe Ratio: {sharpe_target:.4f}\")"
   ]
  },
  {
   "cell_type": "code",
   "execution_count": 28,
   "id": "93dd0b5d-0966-4790-acf7-e07e39891e74",
   "metadata": {},
   "outputs": [
    {
     "name": "stdout",
     "output_type": "stream",
     "text": [
      "Portfolio: [0.18579564 0.13433861 0.29448461 0.21274209 0.13586121 0.03677784]\n",
      "Gamma: 0.44552782364189625\n",
      "Expected Return: 0.0620\n",
      "Volatility: 0.1500\n",
      "Sharpe Ratio: 0.2797\n"
     ]
    }
   ],
   "source": [
    "gamma0, gamma1 = -0.5, 10\n",
    "volatility_target = 0.15\n",
    "\n",
    "while (gamma1 - gamma0) > 1e-7:\n",
    "    midpoint = (gamma0 + gamma1) / 2\n",
    "    _, _, vol, _ = solver_long_only(midpoint, cov_matrix, mu, r_f)\n",
    "\n",
    "    if vol > volatility_target:\n",
    "        gamma1 = midpoint\n",
    "    else:\n",
    "        gamma0 = midpoint\n",
    "\n",
    "gamma = (gamma0 + gamma1) / 2\n",
    "portfolio, mu_target, sigma_target, sharpe_target = solver_long_only(gamma, cov_matrix, mu, r_f)\n",
    "\n",
    "print(f\"Portfolio: {portfolio}\")\n",
    "print(f\"Gamma: {gamma}\")\n",
    "print(f\"Expected Return: {mu_target:.4f}\")\n",
    "print(f\"Volatility: {sigma_target:.4f}\")\n",
    "print(f\"Sharpe Ratio: {sharpe_target:.4f}\")"
   ]
  },
  {
   "cell_type": "code",
   "execution_count": 29,
   "id": "90eab2c6-a93b-4036-9ddb-432dfee041d4",
   "metadata": {},
   "outputs": [],
   "source": [
    "gamma_values = np.arange(-0.5, 10, 0.01)\n",
    "sharpe0 = -1e7\n",
    "\n",
    "for gamma in gamma_values:\n",
    "    _, _, _, sharpe_temp = solver_long_only(gamma, cov_matrix, mu, r_f)\n",
    "\n",
    "    if sharpe_temp > sharpe0:\n",
    "        sharpe0 = sharpe_temp\n",
    "        gamma0 = gamma"
   ]
  },
  {
   "cell_type": "code",
   "execution_count": 30,
   "id": "70669dee-c447-4849-99f4-f273051121be",
   "metadata": {},
   "outputs": [
    {
     "name": "stdout",
     "output_type": "stream",
     "text": [
      "Portfolio: [6.11319227e-23 2.95836752e-02 1.76727303e-01 2.08654648e-01\n",
      " 2.62995481e-01 3.22038893e-01]\n",
      "Gamma: 1.0693000000000004\n",
      "Expected Return: 0.1124\n",
      "Volatility: 0.3144\n",
      "Sharpe Ratio: 0.2940\n"
     ]
    }
   ],
   "source": [
    "gamma_values = np.arange(gamma0 - 0.01, gamma0 + 0.01, 0.0001)\n",
    "for gamma in gamma_values:\n",
    "    tangency_temp, mu_temp, sigma_temp, sharpe_temp = solver_long_only(gamma, cov_matrix, mu, r_f)\n",
    "\n",
    "    if sharpe_temp > sharpe0:\n",
    "        tangency_brute, mu_brute, sigma_brute, sharpe_brute = tangency_temp, mu_temp, sigma_temp, sharpe_temp\n",
    "        gamma0 = gamma\n",
    "        sharpe0 = sharpe_brute\n",
    "\n",
    "print(f\"Portfolio: {tangency_brute}\")\n",
    "print(f\"Gamma: {gamma0}\")\n",
    "print(f\"Expected Return: {mu_brute:.4f}\")\n",
    "print(f\"Volatility: {sigma_brute:.4f}\")\n",
    "print(f\"Sharpe Ratio: {sharpe_brute:.4f}\")"
   ]
  },
  {
   "cell_type": "code",
   "execution_count": 31,
   "id": "ee33fe68-2227-4b62-9c01-541159df9f01",
   "metadata": {},
   "outputs": [
    {
     "data": {
      "text/plain": [
       "array([-0.18703845,  0.19469948,  0.45430022,  0.64900077,  0.9735017 ,\n",
       "        1.62250355])"
      ]
     },
     "execution_count": 31,
     "metadata": {},
     "output_type": "execute_result"
    }
   ],
   "source": [
    "beta = (cov_matrix @ tangency_brute) / (sigma_brute ** 2)\n",
    "beta"
   ]
  },
  {
   "cell_type": "code",
   "execution_count": 32,
   "id": "f492099e-bd3f-45b6-aa4e-2178ed326428",
   "metadata": {},
   "outputs": [
    {
     "data": {
      "text/plain": [
       "array([0.00270834, 0.03799992, 0.06199995, 0.07999997, 0.11      ,\n",
       "       0.17000006])"
      ]
     },
     "execution_count": 32,
     "metadata": {},
     "output_type": "execute_result"
    }
   ],
   "source": [
    "mu_implied = r_f + beta * (mu_brute - r_f)\n",
    "mu_implied"
   ]
  },
  {
   "cell_type": "code",
   "execution_count": 33,
   "id": "d83049ad-0015-42bf-b7a1-43ce63b99ca1",
   "metadata": {},
   "outputs": [
    {
     "data": {
      "text/plain": [
       "array([-7.08340373e-04,  7.99246899e-08,  5.41597635e-08,  3.48360687e-08,\n",
       "        2.62991080e-09, -6.17824051e-08])"
      ]
     },
     "execution_count": 33,
     "metadata": {},
     "output_type": "execute_result"
    }
   ],
   "source": [
    "alpha = mu - mu_implied\n",
    "alpha"
   ]
  },
  {
   "cell_type": "code",
   "execution_count": 34,
   "id": "7cf6c7ef-382a-4912-b44c-139294fe8751",
   "metadata": {},
   "outputs": [
    {
     "name": "stdout",
     "output_type": "stream",
     "text": [
      "Long-only tangency portfolio: [6.11319227e-23 2.95836752e-02 1.76727303e-01 2.08654648e-01\n",
      " 2.62995481e-01 3.22038893e-01]\n",
      "Volatility: 0.314414409842286\n",
      "Marginal risk contribution of the long-only tangency portfolio: [-0.05880758  0.06121632  0.14283854  0.2040552   0.30608296  0.5101385 ]\n",
      "Absolute risk contribution of the long-only tangency portfolio: [-3.59502067e-24  1.81100380e-03  2.52434692e-02  4.25770650e-02\n",
      "  8.04984358e-02  1.64284436e-01]\n",
      "Relative risk contribution of the long-only tangency portfolio: [-1.14340201e-23  5.75992620e-03  8.02872527e-02  1.35417028e-01\n",
      "  2.56026547e-01  5.22509245e-01]\n"
     ]
    }
   ],
   "source": [
    "marginal_risk_contribution = (cov_matrix @ tangency_brute) / sigma_brute\n",
    "absolute_risk_contribution = tangency_brute * marginal_risk_contribution\n",
    "relative_risk_contribution = absolute_risk_contribution / sigma_brute\n",
    "\n",
    "print(f\"Long-only tangency portfolio: {tangency_brute}\")\n",
    "print(f\"Volatility: {sigma_brute}\")\n",
    "print(f\"Marginal risk contribution of the long-only tangency portfolio: {marginal_risk_contribution}\")\n",
    "print(f\"Absolute risk contribution of the long-only tangency portfolio: {absolute_risk_contribution}\")\n",
    "print(f\"Relative risk contribution of the long-only tangency portfolio: {relative_risk_contribution}\")"
   ]
  },
  {
   "cell_type": "code",
   "execution_count": 35,
   "id": "b854276e-9606-4e4d-bc80-13f413ba7ac4",
   "metadata": {},
   "outputs": [
    {
     "name": "stdout",
     "output_type": "stream",
     "text": [
      "Long-only minimum variance portfolio: [0.16666667 0.16666667 0.16666667 0.16666667 0.16666667 0.16666667]\n",
      "Volatility: 0.19747011025581682\n",
      "Marginal risk contribution of the long-only minimum variance portfolio: [-0.03874004  0.0793369   0.14314403  0.2026467   0.30080502  0.49762805]\n",
      "Absolute risk contribution of the long-only minimum variance portfolio: [-0.00645667  0.01322282  0.02385734  0.03377445  0.05013417  0.08293801]\n",
      "Relative risk contribution of the long-only minimum variance portfolio: [-0.03269697  0.06696111  0.12081493  0.17103576  0.25388232  0.42000285]\n"
     ]
    }
   ],
   "source": [
    "equally_weighted_portfolio = np.ones(6) / 6\n",
    "expected_return_equally_weighted = np.dot(equally_weighted_portfolio, mu)\n",
    "volatility_equally_weighted = np.sqrt(equally_weighted_portfolio @ cov_matrix @ equally_weighted_portfolio)\n",
    "\n",
    "marginal_risk_contribution = (cov_matrix @ equally_weighted_portfolio) / volatility_equally_weighted\n",
    "absolute_risk_contribution = equally_weighted_portfolio * marginal_risk_contribution\n",
    "relative_risk_contribution = absolute_risk_contribution / volatility_equally_weighted\n",
    "\n",
    "print(f\"Long-only minimum variance portfolio: {equally_weighted_portfolio}\")\n",
    "print(f\"Volatility: {volatility_equally_weighted}\")\n",
    "print(f\"Marginal risk contribution of the long-only minimum variance portfolio: {marginal_risk_contribution}\")\n",
    "print(f\"Absolute risk contribution of the long-only minimum variance portfolio: {absolute_risk_contribution}\")\n",
    "print(f\"Relative risk contribution of the long-only minimum variance portfolio: {relative_risk_contribution}\")"
   ]
  },
  {
   "cell_type": "code",
   "execution_count": 36,
   "id": "6af255e3-3265-42cf-8303-f18295fdbd0a",
   "metadata": {},
   "outputs": [
    {
     "name": "stdout",
     "output_type": "stream",
     "text": [
      "Long-only minimum variance portfolio: [4.45838379e-01 2.22332734e-01 2.79862095e-01 5.19667916e-02\n",
      " 1.92375296e-23 1.25202738e-22]\n",
      "Volatility: 0.08866533009436964\n",
      "Marginal risk contribution of the long-only minimum variance portfolio: [0.08866533 0.08866533 0.08866533 0.08866533 0.12236027 0.20393379]\n",
      "Absolute risk contribution of the long-only minimum variance portfolio: [3.95304071e-02 1.97132052e-02 2.48140651e-02 4.60765273e-03\n",
      " 2.35390934e-24 2.55330685e-23]\n",
      "Relative risk contribution of the long-only minimum variance portfolio: [4.45838379e-01 2.22332734e-01 2.79862095e-01 5.19667916e-02\n",
      " 2.65482499e-23 2.87971279e-22]\n"
     ]
    }
   ],
   "source": [
    "n = 6\n",
    "x = cp.Variable(n)\n",
    "constraints = [cp.sum(x) == 1, x >= 0, x <= 1]\n",
    "\n",
    "objective = cp.Minimize(0.5 * cp.quad_form(x, cov_matrix))\n",
    "\n",
    "prob = cp.Problem(objective, constraints)\n",
    "prob.solve()\n",
    "\n",
    "minimum_variance_portfolio = x.value\n",
    "expected_return_minimum_variance = np.dot(minimum_variance_portfolio, mu)\n",
    "volatility_minimum_variance = np.sqrt(minimum_variance_portfolio @ cov_matrix @ minimum_variance_portfolio)\n",
    "\n",
    "marginal_risk_contribution = (cov_matrix @ minimum_variance_portfolio) / volatility_minimum_variance\n",
    "absolute_risk_contribution = minimum_variance_portfolio * marginal_risk_contribution\n",
    "relative_risk_contribution = absolute_risk_contribution / volatility_minimum_variance\n",
    "\n",
    "print(f\"Long-only minimum variance portfolio: {minimum_variance_portfolio}\")\n",
    "print(f\"Volatility: {volatility_minimum_variance}\")\n",
    "print(f\"Marginal risk contribution of the long-only minimum variance portfolio: {marginal_risk_contribution}\")\n",
    "print(f\"Absolute risk contribution of the long-only minimum variance portfolio: {absolute_risk_contribution}\")\n",
    "print(f\"Relative risk contribution of the long-only minimum variance portfolio: {relative_risk_contribution}\")"
   ]
  },
  {
   "cell_type": "code",
   "execution_count": 37,
   "id": "07a6a56a-7d87-47d7-93a5-61819d8f8d70",
   "metadata": {},
   "outputs": [
    {
     "name": "stdout",
     "output_type": "stream",
     "text": [
      "Long-only most diversified portfolio: [0.4799562  0.20740348 0.14051528 0.09571027 0.055786   0.02062877]\n",
      "Volatility: 0.09537856565358434\n",
      "Marginal risk contribution of the long only most diversified portfolio: [0.08207653 0.08681408 0.08740667 0.1159625  0.16415306 0.26379021]\n",
      "Absolute risk contribution of the long only most diversified portfolio: [0.03939314 0.01800554 0.01228197 0.0110988  0.00915744 0.00544167]\n",
      "Relative risk contribution of the elong only most diversified portfolio: [0.41301878 0.18877975 0.12877078 0.11636579 0.09601154 0.05705335]\n"
     ]
    }
   ],
   "source": [
    "n = 6\n",
    "x = cp.Variable(n)\n",
    "constraints = [x @ sigma == 1, x >= 0]\n",
    "\n",
    "objective = cp.Minimize(0.5 * cp.quad_form(x, cov_matrix))\n",
    "\n",
    "prob = cp.Problem(objective, constraints)\n",
    "prob.solve()\n",
    "\n",
    "most_diversified_portfolio = x.value / np.sum(x.value)\n",
    "expected_return_most_diversified = np.dot(most_diversified_portfolio, mu)\n",
    "volatility_most_diversified = np.sqrt(most_diversified_portfolio @ cov_matrix @ most_diversified_portfolio)\n",
    "\n",
    "marginal_risk_contribution = (cov_matrix @ most_diversified_portfolio) / volatility_most_diversified\n",
    "absolute_risk_contribution = most_diversified_portfolio * marginal_risk_contribution\n",
    "relative_risk_contribution = absolute_risk_contribution / volatility_most_diversified\n",
    "\n",
    "print(f\"Long-only most diversified portfolio: {most_diversified_portfolio}\")\n",
    "print(f\"Volatility: {volatility_most_diversified}\")\n",
    "print(f\"Marginal risk contribution of the long only most diversified portfolio: {marginal_risk_contribution}\")\n",
    "print(f\"Absolute risk contribution of the long only most diversified portfolio: {absolute_risk_contribution}\")\n",
    "print(f\"Relative risk contribution of the elong only most diversified portfolio: {relative_risk_contribution}\")"
   ]
  },
  {
   "cell_type": "code",
   "execution_count": 38,
   "id": "78bb6947-c1fb-4adb-95a7-ae056aab42c0",
   "metadata": {},
   "outputs": [],
   "source": [
    "variance = sigma ** 2"
   ]
  },
  {
   "cell_type": "code",
   "execution_count": 39,
   "id": "cf37be0a-1f21-471c-b56d-a7383bfa4188",
   "metadata": {},
   "outputs": [
    {
     "name": "stdout",
     "output_type": "stream",
     "text": [
      "Equal risk contribution portfolio: [0.41305405 0.19628094 0.15298512 0.11230771 0.07767977 0.04769241]\n",
      "Volatility: 0.10691507945374719\n",
      "Marginal risk contribution of the equal risk contribution portfolio: [0.04314007 0.09078406 0.11647656 0.15866391 0.22939281 0.37362714]\n",
      "Absolute risk contribution of the equal risk contribution portfolio: [0.01781918 0.01781918 0.01781918 0.01781918 0.01781918 0.01781918]\n",
      "Relative risk contribution of the equal risk contribution portfolio: [0.16666667 0.16666667 0.16666667 0.16666667 0.16666667 0.16666667]\n"
     ]
    }
   ],
   "source": [
    "n = 6\n",
    "x_old, x_new = (1 / n) * np.ones(n), (1 / n) * np.ones(n)\n",
    "b = 1 / n\n",
    "\n",
    "first = (cov_matrix @ x_old)\n",
    "second = np.sqrt(x_old @ cov_matrix @ x_old)\n",
    "err = 1\n",
    "while err > 1e-10:\n",
    "    for i in range(n):\n",
    "        x_new[i] = (-first[i] + x_new[i] * variance[i] + np.sqrt((first[i] - x_new[i] * variance[i]) ** 2 + 4 * variance[i] * b * second)) / (2 * variance[i])\n",
    "        first = first - cov_matrix[:, i] * x_old[i] + cov_matrix[:, i] * x_new[i]\n",
    "        second = np.sqrt(second ** 2 - 2 * x_old[i] * np.dot(cov_matrix[i, :], x_old) + (x_old[i] ** 2) * variance[i] + 2 * x_new[i] * np.dot(cov_matrix[i, :], x_new) - (x_new[i] ** 2) * variance[i])\n",
    "    \n",
    "    err = np.linalg.norm(x_new - x_old, np.inf)    \n",
    "    x_old = x_new.copy()\n",
    "\n",
    "erc_portfolio = x_new / np.sum(x_new)\n",
    "expected_return_erc = np.dot(erc_portfolio, mu)\n",
    "volatility_erc = np.sqrt(erc_portfolio @ cov_matrix @ erc_portfolio)\n",
    "\n",
    "marginal_risk_contribution = (cov_matrix @ erc_portfolio) / volatility_erc\n",
    "absolute_risk_contribution = erc_portfolio * marginal_risk_contribution\n",
    "relative_risk_contribution = absolute_risk_contribution / volatility_erc\n",
    "\n",
    "print(f\"Equal risk contribution portfolio: {erc_portfolio}\")\n",
    "print(f\"Volatility: {volatility_erc}\")\n",
    "print(f\"Marginal risk contribution of the equal risk contribution portfolio: {marginal_risk_contribution}\")\n",
    "print(f\"Absolute risk contribution of the equal risk contribution portfolio: {absolute_risk_contribution}\")\n",
    "print(f\"Relative risk contribution of the equal risk contribution portfolio: {relative_risk_contribution}\")"
   ]
  },
  {
   "cell_type": "code",
   "execution_count": 40,
   "id": "dd707d60-0cd5-4d64-a198-97b3d74c9366",
   "metadata": {},
   "outputs": [
    {
     "name": "stdout",
     "output_type": "stream",
     "text": [
      "Beta of the long-only tangency portfolio with respect to the long-only tangency portfolio: 1.0\n",
      "Beta of the equally weighted portfolio with respect to the long-only tangency portfolio: 0.6178278784538134\n",
      "Beta of the long-only minimum variance portfolio with respect to the long-only tangency portfolio: 0.12076704783255793\n",
      "Beta of the long-only most diversified portfolio with respect to the long-only tangency portfolio: 0.1643412674899537\n",
      "Beta of the equal risk contribution portfolio with respect to the long-only tangency portfolio: 0.25635026238324776\n"
     ]
    }
   ],
   "source": [
    "beta_msr_msr = (tangency_brute @ cov_matrix @ tangency_brute) / (tangency_brute @ cov_matrix @ tangency_brute)\n",
    "beta_ew_msr = (equally_weighted_portfolio @ cov_matrix @ tangency_brute) / (tangency_brute @ cov_matrix @ tangency_brute)\n",
    "beta_mv_msr = (minimum_variance_portfolio @ cov_matrix @ tangency_brute) / (tangency_brute @ cov_matrix @ tangency_brute)\n",
    "beta_mdp_msr = (most_diversified_portfolio @ cov_matrix @ tangency_brute) / (tangency_brute @ cov_matrix @ tangency_brute)\n",
    "beta_erc_msr = (erc_portfolio @ cov_matrix @ tangency_brute) / (tangency_brute @ cov_matrix @ tangency_brute)\n",
    "\n",
    "print(f\"Beta of the long-only tangency portfolio with respect to the long-only tangency portfolio: {beta_msr_msr}\")\n",
    "print(f\"Beta of the equally weighted portfolio with respect to the long-only tangency portfolio: {beta_ew_msr}\")\n",
    "print(f\"Beta of the long-only minimum variance portfolio with respect to the long-only tangency portfolio: {beta_mv_msr}\")\n",
    "print(f\"Beta of the long-only most diversified portfolio with respect to the long-only tangency portfolio: {beta_mdp_msr}\")\n",
    "print(f\"Beta of the equal risk contribution portfolio with respect to the long-only tangency portfolio: {beta_erc_msr}\")"
   ]
  },
  {
   "cell_type": "code",
   "execution_count": 41,
   "id": "b475fda8-bdd1-48dd-a506-bf88cd45e506",
   "metadata": {},
   "outputs": [
    {
     "name": "stdout",
     "output_type": "stream",
     "text": [
      "Beta of the long-only tangency portfolio with respect to the equally weighted portfolio: 1.5662808843691278\n",
      "Beta of the equally weighted portfolio with respect to the equally weighted portfolio: 1.0\n",
      "Beta of the long-only minimum variance portfolio with respect to the equally weighted portfolio: 0.25805869799788006\n",
      "Beta of the long-only most diversified portfolio with respect to the equally weighted portfolio: 0.32620979549211027\n",
      "Beta of the equal risk contribution portfolio with respect to the equally weighted portfolio: 0.4624893825620951\n"
     ]
    }
   ],
   "source": [
    "beta_msr_ew = (tangency_brute @ cov_matrix @ equally_weighted_portfolio) / (equally_weighted_portfolio @ cov_matrix @ equally_weighted_portfolio)\n",
    "beta_ew_ew = (equally_weighted_portfolio @ cov_matrix @ equally_weighted_portfolio) / (equally_weighted_portfolio @ cov_matrix @ equally_weighted_portfolio)\n",
    "beta_mv_ew = (minimum_variance_portfolio @ cov_matrix @ equally_weighted_portfolio) / (equally_weighted_portfolio @ cov_matrix @ equally_weighted_portfolio)\n",
    "beta_mdp_ew = (most_diversified_portfolio @ cov_matrix @ equally_weighted_portfolio) / (equally_weighted_portfolio @ cov_matrix @ equally_weighted_portfolio)\n",
    "beta_erc_ew = (erc_portfolio @ cov_matrix @ equally_weighted_portfolio) / (equally_weighted_portfolio @ cov_matrix @ equally_weighted_portfolio)\n",
    "\n",
    "print(f\"Beta of the long-only tangency portfolio with respect to the equally weighted portfolio: {beta_msr_ew}\")\n",
    "print(f\"Beta of the equally weighted portfolio with respect to the equally weighted portfolio: {beta_ew_ew}\")\n",
    "print(f\"Beta of the long-only minimum variance portfolio with respect to the equally weighted portfolio: {beta_mv_ew}\")\n",
    "print(f\"Beta of the long-only most diversified portfolio with respect to the equally weighted portfolio: {beta_mdp_ew}\")\n",
    "print(f\"Beta of the equal risk contribution portfolio with respect to the equally weighted portfolio: {beta_erc_ew}\")"
   ]
  },
  {
   "cell_type": "code",
   "execution_count": 42,
   "id": "cc2a0cc9-06a9-4c65-8b0c-061dbefc4fb9",
   "metadata": {},
   "outputs": [
    {
     "data": {
      "image/png": "[encoded data removed]",
      "text/plain": [
       "<Figure size 1400x500 with 1 Axes>"
      ]
     },
     "metadata": {},
     "output_type": "display_data"
    }
   ],
   "source": [
    "plt.figure(figsize=(14, 5))\n",
    "plt.plot(volatilities_long_only, expected_returns_long_only, linestyle='-', label=\"Long Only Efficient Frontier\")\n",
    "plt.plot(sigma_brute, mu_brute, marker = 'o', label=\"MSR portfolio\")\n",
    "plt.plot(volatility_equally_weighted, expected_return_equally_weighted, marker = 'o', label=\"EW portfolio\")\n",
    "plt.plot(volatility_minimum_variance, expected_return_minimum_variance, marker = 'o', label=\"MV portfolio\")\n",
    "plt.plot(volatility_most_diversified, expected_return_most_diversified, marker = 'o', label=\"MDP portfolio\")\n",
    "plt.plot(volatility_erc, expected_return_erc, marker = 'o', label=\"ERC portfolio\")\n",
    "plt.xlabel(\"Volatility (σ)\")\n",
    "plt.ylabel(\"Expected Return (μ)\")\n",
    "plt.title(\"Efficient Frontier\")\n",
    "plt.legend()\n",
    "plt.grid(True)\n",
    "plt.show()"
   ]
  }
 ],
 "metadata": {
  "kernelspec": {
   "display_name": "Python 3 (ipykernel)",
   "language": "python",
   "name": "python3"
  },
  "language_info": {
   "codemirror_mode": {
    "name": "ipython",
    "version": 3
   },
   "file_extension": ".py",
   "mimetype": "text/x-python",
   "name": "python",
   "nbconvert_exporter": "python",
   "pygments_lexer": "ipython3",
   "version": "3.12.4"
  }
 },
 "nbformat": 4,
 "nbformat_minor": 5
}
